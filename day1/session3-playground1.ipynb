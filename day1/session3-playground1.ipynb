{
 "cells": [
  {
   "cell_type": "markdown",
   "metadata": {},
   "source": [
    "## Session3 - playground1"
   ]
  },
  {
   "cell_type": "code",
   "execution_count": null,
   "metadata": {},
   "outputs": [],
   "source": [
    "import numpy as np"
   ]
  },
  {
   "cell_type": "code",
   "execution_count": null,
   "metadata": {},
   "outputs": [],
   "source": [
    "import matplotlib as mpl\n",
    "import matplotlib.pyplot as plt"
   ]
  },
  {
   "cell_type": "code",
   "execution_count": null,
   "metadata": {},
   "outputs": [],
   "source": [
    "from numpy import genfromtxt\n",
    "iris = genfromtxt('iris_data.csv', delimiter=',')"
   ]
  },
  {
   "cell_type": "markdown",
   "metadata": {},
   "source": [
    "__Hint:__ you can copy and paste code from the cell of another notebook. \n",
    "For example, here, you can copy the code from the `session3` notebook and modify it.\n",
    "\n",
    "__ヒント__：別のノートブックのセルからコードをコピーして貼り付けることができます。たとえば、ここでは、`session3`ノートブックからコードをコピーして変更できます。"
   ]
  },
  {
   "cell_type": "markdown",
   "metadata": {},
   "source": [
    "## TASK 1\n",
    "Plot the petal length for the iris versicolor and the iris virginica.\n",
    "- Use the `plot` function to create the plot\n",
    "- Add the adequate labels\n",
    "\n",
    "ブルーフラッグ種とバージニカ種の花びらの長さをプロットしてください。\n",
    "- 関数`plot`を使用してプロットを作成する\n",
    "- 適切なラベルを追加する\n"
   ]
  },
  {
   "cell_type": "code",
   "execution_count": null,
   "metadata": {},
   "outputs": [],
   "source": [
    "## YOUR CODE HERE"
   ]
  },
  {
   "cell_type": "markdown",
   "metadata": {},
   "source": [
    "## TASK 2\n",
    "Plot the sepal length for:\n",
    "- the iris setosa in red,\n",
    "- the iris versiclor in blue,\n",
    "- the iris virginica in green.\n",
    "\n",
    "がくの長さをプロットしてください。\n",
    "- ヒオウギアヤメを赤い線で\n",
    "- ブルーフラッグを青い線で\n",
    "- バージニカを緑色の線で"
   ]
  },
  {
   "cell_type": "code",
   "execution_count": null,
   "metadata": {},
   "outputs": [],
   "source": [
    "## YOUR CODE HERE"
   ]
  },
  {
   "cell_type": "markdown",
   "metadata": {},
   "source": [
    "## TASK 3\n",
    "\n",
    "Plot the sepal length versus the sepal width for:\n",
    "- the iris setosa in red,\n",
    "- the iris versicolor in blue,\n",
    "- the iris virginica in green.\n",
    "\n",
    "がくの長さに対してがくの幅をプロットしてください。\n",
    "- ヒオウギアヤメを赤い線で\n",
    "- ブルーフラッグを青い線で\n",
    "- バージニカを緑色の線で"
   ]
  },
  {
   "cell_type": "code",
   "execution_count": null,
   "metadata": {},
   "outputs": [],
   "source": [
    "## YOUR CODE HERE"
   ]
  }
 ],
 "metadata": {
  "kernelspec": {
   "display_name": "Python 3",
   "language": "python",
   "name": "python3"
  },
  "language_info": {
   "codemirror_mode": {
    "name": "ipython",
    "version": 3
   },
   "file_extension": ".py",
   "mimetype": "text/x-python",
   "name": "python",
   "nbconvert_exporter": "python",
   "pygments_lexer": "ipython3",
   "version": "3.6.8"
  }
 },
 "nbformat": 4,
 "nbformat_minor": 2
}
