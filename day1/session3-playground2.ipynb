{
 "cells": [
  {
   "cell_type": "markdown",
   "metadata": {},
   "source": [
    "## Session3 - playground2"
   ]
  },
  {
   "cell_type": "code",
   "execution_count": null,
   "metadata": {},
   "outputs": [],
   "source": [
    "import numpy as np"
   ]
  },
  {
   "cell_type": "code",
   "execution_count": null,
   "metadata": {},
   "outputs": [],
   "source": [
    "import matplotlib as mpl\n",
    "import matplotlib.pyplot as plt"
   ]
  },
  {
   "cell_type": "code",
   "execution_count": null,
   "metadata": {},
   "outputs": [],
   "source": [
    "from numpy import genfromtxt\n",
    "iris = genfromtxt('iris_data.csv', delimiter=',')"
   ]
  },
  {
   "cell_type": "markdown",
   "metadata": {},
   "source": [
    "## TASK 1\n",
    "Make an histogram of sepal length for:\n",
    "- the iris setosa in red,\n",
    "- the iris versicolor in blue,\n",
    "- the iris virginica in green.\n",
    "\n",
    "がくの長さをヒストグラムを作成してください。\n",
    "- ヒオウギアヤメを赤い線で\n",
    "- ブルーフラッグを青い線で\n",
    "- バージニカを緑色の線で"
   ]
  },
  {
   "cell_type": "code",
   "execution_count": null,
   "metadata": {},
   "outputs": [],
   "source": [
    "## YOUR CODE HERE"
   ]
  },
  {
   "cell_type": "markdown",
   "metadata": {},
   "source": [
    "## OPTIONAL 1\n",
    "\n",
    "It is often useful to plot 2 or more graphs in the same plot. That can be done using the function `subplot`.\n",
    "<br>\n",
    "Look up its usage and make a plot like this:\n",
    "- On the left: a plot of the iris versicolor sepal width.\n",
    "- On the right: a histogram of the iris versicolor sepal width.\n",
    "\n",
    "同じプロットに2つ以上のグラフをプロットすると便利な場合があります。そういう時は`subplot`関数が使えます。\n",
    "<br>\n",
    "その関数の使用法を調べ、次のプロットを作成します。\n",
    "-左側：ブルーフラッグのがくの幅のプロット。\n",
    "-右側：ブルーフラッグのがくの幅のヒストグラム。"
   ]
  },
  {
   "cell_type": "code",
   "execution_count": null,
   "metadata": {},
   "outputs": [],
   "source": [
    "## YOUR CODE HERE"
   ]
  }
 ],
 "metadata": {
  "kernelspec": {
   "display_name": "Python 3",
   "language": "python",
   "name": "python3"
  },
  "language_info": {
   "codemirror_mode": {
    "name": "ipython",
    "version": 3
   },
   "file_extension": ".py",
   "mimetype": "text/x-python",
   "name": "python",
   "nbconvert_exporter": "python",
   "pygments_lexer": "ipython3",
   "version": "3.7.6"
  }
 },
 "nbformat": 4,
 "nbformat_minor": 2
}
