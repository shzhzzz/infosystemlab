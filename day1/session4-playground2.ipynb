{
 "cells": [
  {
   "cell_type": "markdown",
   "metadata": {},
   "source": [
    "## Session4 - playground2"
   ]
  },
  {
   "cell_type": "markdown",
   "metadata": {},
   "source": [
    "- Import the necessary packages\n",
    "- Load the iris dataset\n",
    "- Create the observations `X` and labels `y`\n",
    "\n",
    "\n",
    "- 必要なパッケージをインポートします\n",
    "- アヤメのデータセットを読み込みます\n",
    "- 観測値`X`とラベル`y`を作成します"
   ]
  },
  {
   "cell_type": "code",
   "execution_count": null,
   "metadata": {},
   "outputs": [],
   "source": [
    "import numpy as np\n",
    "import matplotlib as mpl\n",
    "import matplotlib.pyplot as plt\n",
    "\n",
    "# Load data\n",
    "iris = np.genfromtxt('iris_data.csv', delimiter=',')\n",
    "\n",
    "X = iris[:,1:]\n",
    "y = iris[:,0]\n",
    "print(\"X has shape:\", X.shape)\n",
    "print(\"y has shape:\", y.shape)"
   ]
  },
  {
   "cell_type": "markdown",
   "metadata": {},
   "source": [
    "## TASK 1: preparation\n",
    "\n",
    "Copy your code for data preparation from [session4-playground1](session4-playground1.ipynb) (both TASK1 and TASK2) in the cell below and execute it.\n",
    "\n",
    "以下のセルに[session4-playground1](session4-playground1.ipynb)からデータ準備用のコード（TASK1とTASK2の両方）をコピーして、実行してください。"
   ]
  },
  {
   "cell_type": "code",
   "execution_count": null,
   "metadata": {},
   "outputs": [],
   "source": [
    "## YOUR CODE HERE"
   ]
  },
  {
   "cell_type": "markdown",
   "metadata": {},
   "source": [
    "## TASK 2\n",
    "- Create and train a linear support vector classifier\n",
    "\n",
    "\n",
    "- 線形サポートベクトル分類器を作成し、トレーニングさせる"
   ]
  },
  {
   "cell_type": "code",
   "execution_count": null,
   "metadata": {},
   "outputs": [],
   "source": [
    "## YOUR CODE HERE"
   ]
  },
  {
   "cell_type": "markdown",
   "metadata": {},
   "source": [
    "## TASK 3\n",
    "- Predict the labels for the test features\n",
    "\n",
    "\n",
    "- テストデータのラベルを予測する"
   ]
  },
  {
   "cell_type": "code",
   "execution_count": null,
   "metadata": {},
   "outputs": [],
   "source": [
    "## YOUR CODE HERE"
   ]
  },
  {
   "cell_type": "markdown",
   "metadata": {},
   "source": [
    "## TASK 4\n",
    "- Show the confusion matrix\n",
    "- Compute the accuracy\n",
    "\n",
    "\n",
    "- 混同行列を表示する\n",
    "- 精度を計算する"
   ]
  },
  {
   "cell_type": "code",
   "execution_count": null,
   "metadata": {},
   "outputs": [],
   "source": [
    "## YOUR CODE HERE"
   ]
  },
  {
   "cell_type": "markdown",
   "metadata": {},
   "source": [
    "## OPTIONAL 1\n",
    "- Run the training another time and compare (tip: you can use `Cell -> Run All` from the menu)\n",
    "- Change the proportion of test samples and see the impact on the performance\n",
    "\n",
    "\n",
    "- トレーニングをもう一度実行して、結果を比較します（ヒント：メニューから`Cell -> Run All`を利用できます）\n",
    "- テストサンプルの比率を変更し、パフォーマンスへの影響を確認する"
   ]
  },
  {
   "cell_type": "code",
   "execution_count": null,
   "metadata": {},
   "outputs": [],
   "source": [
    "## YOUR CODE HERE"
   ]
  },
  {
   "cell_type": "markdown",
   "metadata": {},
   "source": [
    "## OPTIONAL 2\n",
    "\n",
    "The splitting between training and testing set does not care if there is an \"equal\" number of each flower type in the sets.\n",
    "\n",
    "- Write some code to split the dataset randomly and care about having an equal representation of each flower type (you can start from the code for manually spliting in the main notebook)\n",
    "- Test the average performance of the classifier using this dataset splitting method\n",
    "\n",
    "トレーニングセットとテストセットの分割は、セット内の各花の種類が「等しい」数であるかどうかを考慮していません。\n",
    "\n",
    "- データセットをランダムに分割し、各花の種類の数が同じになるためのコードを実装してください（ヒント：メインのノートブックにある手動の分割のコードを元に開発できます）\n",
    "- このデータセット分割方法を使用して、分類器の平均パフォーマンスを確認してください"
   ]
  },
  {
   "cell_type": "code",
   "execution_count": null,
   "metadata": {},
   "outputs": [],
   "source": [
    "## YOUR CODE HERE"
   ]
  }
 ],
 "metadata": {
  "kernelspec": {
   "display_name": "Python 3",
   "language": "python",
   "name": "python3"
  },
  "language_info": {
   "codemirror_mode": {
    "name": "ipython",
    "version": 3
   },
   "file_extension": ".py",
   "mimetype": "text/x-python",
   "name": "python",
   "nbconvert_exporter": "python",
   "pygments_lexer": "ipython3",
   "version": "3.6.8"
  }
 },
 "nbformat": 4,
 "nbformat_minor": 2
}
