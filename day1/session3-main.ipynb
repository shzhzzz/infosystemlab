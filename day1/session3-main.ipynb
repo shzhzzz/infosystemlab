{
 "cells": [
  {
   "cell_type": "markdown",
   "metadata": {},
   "source": [
    "# Matplotlib"
   ]
  },
  {
   "cell_type": "markdown",
   "metadata": {},
   "source": [
    "**Matplotlib** is a python library for scientific plotting.\n",
    "\n",
    "**Matplotlib**は科学的プロット用のPythonライブラリです。"
   ]
  },
  {
   "cell_type": "markdown",
   "metadata": {},
   "source": [
    "Here, we import the necessary packages.\n",
    "<br>\n",
    "`mpl` and `plt` are commonly used alias for the package `matplotlib` and the sub package `matplotlib.pyplot`.\n",
    "<br>\n",
    "Most of the functions we will need are in `matplotlib.pyplot`.\n",
    "\n",
    "まずは、必要なパッケージをインポートします。\n",
    "<br>\n",
    "`mpl`と`plt`は、パッケージ`matplotlib`とサブパッケージ`matplotlib.pyplot`の一般的に使用されるエイリアスです。\n",
    "<br>\n",
    "この実習で使用する関数のほとんどは`matplotlib.pyplot`に入っています。"
   ]
  },
  {
   "cell_type": "code",
   "execution_count": 1,
   "metadata": {},
   "outputs": [],
   "source": [
    "import matplotlib as mpl\n",
    "import matplotlib.pyplot as plt"
   ]
  },
  {
   "cell_type": "markdown",
   "metadata": {},
   "source": [
    "To illustrate the tool usage, we will again use the \"iris dataset\".\n",
    "\n",
    "ライブラリの使用法を説明するために、アヤメのデータセットを使います。\n",
    "\n",
    "<img src=\"./img/petal-sepal.jpg\" width=\"200\">"
   ]
  },
  {
   "cell_type": "code",
   "execution_count": 2,
   "metadata": {},
   "outputs": [],
   "source": [
    "# Numpy\n",
    "import numpy as np"
   ]
  },
  {
   "cell_type": "code",
   "execution_count": 3,
   "metadata": {},
   "outputs": [],
   "source": [
    "# Load data / データを読み取る\n",
    "from numpy import genfromtxt\n",
    "iris = genfromtxt('iris_data.csv', delimiter=',')"
   ]
  },
  {
   "cell_type": "markdown",
   "metadata": {},
   "source": [
    "#### Simple example / 簡単な例\n",
    "\n",
    "The basic function for ploting is `plot`. Here is how to plot the sepal length for all the flowers in the dataset.\n",
    "\n",
    "プロットの基本的な関数は`plot`です。以下は、データセット内のすべての花のがくの長さをプロットする例です。"
   ]
  },
  {
   "cell_type": "code",
   "execution_count": 4,
   "metadata": {},
   "outputs": [
    {
     "data": {
      "text/plain": [
       "[<matplotlib.lines.Line2D at 0x29d75eafe08>]"
      ]
     },
     "execution_count": 4,
     "metadata": {},
     "output_type": "execute_result"
    },
    {
     "data": {
      "image/png": "[encoded data removed]",
      "text/plain": [
       "<Figure size 432x288 with 1 Axes>"
      ]
     },
     "metadata": {
      "needs_background": "light"
     },
     "output_type": "display_data"
    }
   ],
   "source": [
    "plt.plot(iris[:, 1])"
   ]
  },
  {
   "cell_type": "markdown",
   "metadata": {},
   "source": [
    "#### A bit more complex examples / より複雑な例\n",
    "\n",
    "Plot sepal length and width in the same plot.\n",
    "\n",
    "同じ図にがくの長さと幅をプロットします。"
   ]
  },
  {
   "cell_type": "code",
   "execution_count": null,
   "metadata": {},
   "outputs": [],
   "source": [
    "plt.plot(iris[:, 1], color=[1,0,0]) # red\n",
    "plt.plot(iris[:, 2], color=[0,0,1]) # blue\n",
    "plt.xlabel(\"samples\")\n",
    "plt.ylabel(\"cm\")\n",
    "plt.title(\"sepal length (red) and width (blue)\") "
   ]
  },
  {
   "cell_type": "markdown",
   "metadata": {},
   "source": [
    "The functions used are:\n",
    "\n",
    "- `plot` - plot data\n",
    "- `xlabel`, `ylabel` - label the axes\n",
    "- `title` - figure title\n",
    "\n",
    "(The `color` parameter in the plot function takes 3 numbers (red, green and blue) between 0 and 1. For example: `color=[1,0,0]` gives pure red, and `color=[0,1,0]` gives pure green.)\n",
    "\n",
    "使用した関数は次のとおりです。\n",
    "\n",
    "- `plot` - データをプロットする\n",
    "- `xlabel`、` ylabel` - 軸にラベルを付ける\n",
    "- `title` - 図のタイトル\n",
    "\n",
    "（plot関数の `color`パラメーターは、3つの数値（赤、緑、青）で現れます。数値の値は0〜1です。例：` color = [1,0,0] `は純粋な赤、` color = [0,1,0] `は純粋な緑です。）"
   ]
  },
  {
   "cell_type": "markdown",
   "metadata": {},
   "source": [
    "---\n",
    "\n",
    "Let us now plot the sepal length versus the sepal width for the iris setosa.\n",
    "\n",
    "次はヒオウギアヤメのがくの長さに対してがくの幅をプロットしてみましょう。"
   ]
  },
  {
   "cell_type": "code",
   "execution_count": null,
   "metadata": {
    "scrolled": true
   },
   "outputs": [],
   "source": [
    "## 'x' ＝ plot data with x-shaped markers / x型のマーカーでデータをプロットする\n",
    "plt.plot(iris[iris[:,0] == 0, 1],iris[iris[:,0] == 0, 2], 'x')\n",
    "plt.xlabel(\"length [cm]\")\n",
    "plt.ylabel(\"width [cm]\")\n",
    "plt.title(\"Sepal width vs length for the iris setosa\")"
   ]
  },
  {
   "cell_type": "markdown",
   "metadata": {},
   "source": [
    "The notation `iris[:,0] == 0` returns the list of the row indices where `iris[:,0]` (flower type) is equal to `0` (iris setosa). Namely, it selects the indices of the rows correspoding to the iris setosa.\n",
    "\n",
    "`iris[:,0] == 0`という表記は、`iris[:,0]`（花の種類を表す値）が`0` (ヒオウギアヤメ)に等しい行インデックスのリストを返します。つまり、ヒオウギアヤメに対応する行のインデックスを選択します。"
   ]
  },
  {
   "cell_type": "markdown",
   "metadata": {},
   "source": [
    "## Try  it yourself ! / 自分で試そう！\n",
    "\n",
    "[Click here](session3-playground1.ipynb) to open a sample notebook and test.\n",
    "\n",
    "[ここをクリックして](session3-playground1.ipynb)、サンプルのノートブックを開いてください。\n"
   ]
  },
  {
   "cell_type": "markdown",
   "metadata": {},
   "source": [
    "#### Histograms / ヒストグラム\n",
    "\n",
    "Histograms are also easy to make using `matplotlib`.\n",
    "\n",
    "ヒストグラムも`matplotlib`を使用して簡単に作成できます。"
   ]
  },
  {
   "cell_type": "code",
   "execution_count": null,
   "metadata": {},
   "outputs": [],
   "source": [
    "plt.hist(iris[:,2], bins = [2,3,4,5], rwidth=0.95)\n",
    "plt.xlabel(\"sepal width [cm]\")\n",
    "plt.ylabel(\"count\")"
   ]
  },
  {
   "cell_type": "markdown",
   "metadata": {},
   "source": [
    "The above histogram has too large bins.\n",
    "<br>\n",
    "Let us make it better using the `linspace` function from `numpy` to change the bin size.\n",
    "\n",
    "上記のヒストグラムにはビンの幅が大きすぎます。\n",
    "<br>\n",
    "ビンの大きさを変更するために、`numpy`の`linspace`関数を使ってみましょう。"
   ]
  },
  {
   "cell_type": "code",
   "execution_count": null,
   "metadata": {},
   "outputs": [],
   "source": [
    "# using np.linspace to split the interval [2, 5] in 10 parts\n",
    "# np.linspaceを使用して区間[2、5]を10の部分に分割する\n",
    "plt.hist(iris[:,2], bins = np.linspace(2, 5, 10), rwidth=0.95)\n",
    "plt.xlabel(\"sepal width [cm]\")\n",
    "plt.ylabel(\"count\")"
   ]
  },
  {
   "cell_type": "markdown",
   "metadata": {},
   "source": [
    "Let us plot two histograms of different color to show both sepal and petal width.\n",
    "<br>\n",
    "In addition, we will also create a legend.\n",
    "\n",
    "異なる色の2つのヒストグラムをプロットして、がくと花びらの両方の幅を示しましょう。\n",
    "<br>\n",
    "また、凡例も作成します。"
   ]
  },
  {
   "cell_type": "code",
   "execution_count": null,
   "metadata": {
    "scrolled": true
   },
   "outputs": [],
   "source": [
    "# We use a different histogram type (histtype)\n",
    "# 異なるヒストグラムタイプ（histtype）を使用しています\n",
    "plt.hist(iris[:,1], bins = np.linspace(2, 8, 20), histtype='step', color=[1, 0, 0], label=\"sepal length\")\n",
    "plt.hist(iris[:,3], bins = np.linspace(2, 8, 20), histtype='step', color=[0, 1, 0], label=\"petal length\")\n",
    "plt.xlabel(\"length [cm]\")\n",
    "plt.ylabel(\"count\")\n",
    "plt.title(\"Histogram of sepal (red) and petal (green) lenghts\")\n",
    "# the names shown in legend are set using the parameter `label` in the hist function (similarly for functions like plot)\n",
    "# 凡例に表示される名前は、hist関数の`label`パラメーターで設定されています（plotなどの関数は同様です）\n",
    "plt.legend()"
   ]
  },
  {
   "cell_type": "markdown",
   "metadata": {},
   "source": [
    "## Try  it yourself !  / 自分で試そう！\n",
    "\n",
    "[Click here](session3-playground2.ipynb) to open a sample notebook and test.\n",
    "\n",
    "[ここをクリックして](session3-playground2.ipynb)、サンプルのノートブックを開いてください。"
   ]
  },
  {
   "cell_type": "markdown",
   "metadata": {},
   "source": [
    "---\n",
    "\n",
    "### To learn more\n",
    "\n",
    "For other Matplotlib functions and usage examples see e.g. the official tutorials. \n",
    "\n",
    "他のMatplotlib関数と使用例については、公式チュートリアルなどを参照してください。\n",
    "\n",
    "https://matplotlib.org/tutorials/index.html"
   ]
  }
 ],
 "metadata": {
  "kernelspec": {
   "display_name": "Python 3",
   "language": "python",
   "name": "python3"
  },
  "language_info": {
   "codemirror_mode": {
    "name": "ipython",
    "version": 3
   },
   "file_extension": ".py",
   "mimetype": "text/x-python",
   "name": "python",
   "nbconvert_exporter": "python",
   "pygments_lexer": "ipython3",
   "version": "3.7.6"
  }
 },
 "nbformat": 4,
 "nbformat_minor": 2
}
