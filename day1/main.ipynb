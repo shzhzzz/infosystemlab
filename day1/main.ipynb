{
 "cells": [
  {
   "cell_type": "markdown",
   "metadata": {},
   "source": [
    "# Machine learning : Day 1 (2 x 90 min)\n",
    "\n",
    "- Tools (Jupyter, Numpy, Matplotlib)\n",
    "- Classification\n",
    "<br>\n",
    "\n",
    "- ツール（Jupyter、Numpy、Matplotlib）\n",
    "- 分類"
   ]
  },
  {
   "cell_type": "markdown",
   "metadata": {},
   "source": [
    "> If this is the first time you encounter machine learning read the following introduction section first.\n",
    "<br>\n",
    "If you already know the basics, you can just skim through the contents. \n",
    "\n",
    "> 初めて機械学習を学ぶ場合は、最初に次の簡単な紹介を読むことをお勧めします。\n",
    "<br>\n",
    "機械学習の基礎知識をすでに持っている場合は、内容をざっと目を通すだけで十分です。"
   ]
  },
  {
   "cell_type": "markdown",
   "metadata": {},
   "source": [
    "# Very short introduction to machine learning / 機械学習のごく簡単な紹介 "
   ]
  },
  {
   "cell_type": "markdown",
   "metadata": {},
   "source": [
    "Focus of machine learning is: __How can computers learn to solve problems without being explicitly programmed?__\n",
    "\n",
    "1. Use __training data__ to learn\n",
    "2. Make decisions or __predictions__\n",
    "<br>\n",
    "<br>\n",
    "\n",
    "機械学習の課題は: __直接プログラミングしなくても、コンピューターはどのように問題を解決することを学ぶことができるか？__\n",
    "\n",
    "1. __トレーニングデータ__を使用して学習する\n",
    "2. 学習した後、決定または__予測__する"
   ]
  },
  {
   "cell_type": "markdown",
   "metadata": {},
   "source": [
    "<img src=\"./img/general.jpg\" width=\"300\">"
   ]
  },
  {
   "cell_type": "markdown",
   "metadata": {},
   "source": [
    "## Examples / 例"
   ]
  },
  {
   "cell_type": "markdown",
   "metadata": {},
   "source": [
    "### Example 1: Recognize flowers / 例1：花を認識する\n",
    "\n",
    "Teach a machine to recognize the species of a iris flowers.\n",
    "<br>\n",
    "From the measurements of a flower can we know to which of the 3 following iris species this flower belongs?\n",
    "\n",
    "アヤメの種を認識することを機械を教える\n",
    "<br>\n",
    "花の測定から、この花が次の3つのアヤメ種のどれに属するかを知ることがでるか？\n",
    "\n",
    "<table>\n",
    "    <thead>\n",
    "        <tr>\n",
    "            <th colspan=\"4\" style=\"text-align:center;\" >Iris / アヤメ</th>\n",
    "        </tr>\n",
    "    </thead>\n",
    "    <tbody>\n",
    "        <tr>\n",
    "            <td> <img src=\"./img/Iris_setosa.jpg\" width=\"400\"> </td>\n",
    "            <td> <img src=\"./img/iris_versiclor.jpg\" width=\"500\"> </td>\n",
    "            <td> <img <img src=\"./img/Iris_virginica.jpg\" width=\"500\"> </td>\n",
    "        </tr>\n",
    "        <tr>\n",
    "            <td style=\"text-align:center;\"> Iris setosa (ヒオウギアヤメ)</td>\n",
    "            <td style=\"text-align:center;\"> Iris versiclor (ブルーフラッグ)</td>\n",
    "            <td style=\"text-align:center;\"> Iris virginica (バージニカ)</td>\n",
    "        </tr>\n",
    "    </tbody>\n",
    "</table>"
   ]
  },
  {
   "cell_type": "markdown",
   "metadata": {},
   "source": [
    "### Example 2: Read digits / 例2：手書き数字を読み取る\n",
    "\n",
    "Teach a machine to read hand written digits using images\n",
    "<br>\n",
    "Given an image of a hand written digit, can we know which digit it is?\n",
    "\n",
    "画像から手書き数字を読み取ることを機械を教える\n",
    "<br>\n",
    "手書き数字の画像が与えられた場合、どの数字であるかを知ることができるか？\n",
    "\n",
    "<table>\n",
    "    <thead>\n",
    "        <tr>\n",
    "            <th colspan=\"4\" style=\"text-align:center;\" >Hand writen digits / 手書き数字</th>\n",
    "        </tr>\n",
    "    </thead>\n",
    "    <tbody>\n",
    "        <tr>\n",
    "            <td> <img src=\"./img/6.png\" width=\"200\"></td>\n",
    "            <td> <img src=\"./img/7.png\" width=\"200\"></td>\n",
    "            <td> <img src=\"./img/8.png\" width=\"200\"></td>\n",
    "            <td> <img src=\"./img/9.png\" width=\"200\"></td>\n",
    "        </tr>\n",
    "        <tr>\n",
    "            <td style=\"text-align:center;\"> 6</td>\n",
    "            <td style=\"text-align:center;\"> 7</td>\n",
    "            <td style=\"text-align:center;\"> 8</td>\n",
    "            <td style=\"text-align:center;\"> 9</td>\n",
    "        </tr>\n",
    "    </tbody>\n",
    "</table>"
   ]
  },
  {
   "cell_type": "markdown",
   "metadata": {},
   "source": [
    "## Classification / 分類\n",
    "Recognizing the species of a flower or reading a digit are both __classification__ problems.\n",
    "<br>\n",
    "Given a set of possible __classes__, the aim of classification is to determine to which of these classes a new __observation__ belongs.\n",
    "- For the flower problem, the goal is to determine from which of the 3 species (classes) is a flower by measuring its sepal and petal (observation). \n",
    "- For the digit problem, the goal is to determine which of the 10 digits (0 to 9, the classes) is depicted in the image (observation).\n",
    "\n",
    "A program performing classification is called a __classifier__.\n",
    "\n",
    "(Apart from classification, another common problem in machine learning is _regression_, but we will not learn it in this practice.)\n",
    "<br><br>\n",
    "\n",
    "花の種の認識や数字の読み取りは、両方とも__分類__問題です。\n",
    "<br>\n",
    "可能な__クラス__が与えられたら、分類の目的は、新しい__観測__がこれらのクラスのいずれに属するかを判断することである。\n",
    "\n",
    "- 花認識問題の目標は、がくと花びらの測定データ（観察）から、3つの種（クラス）のどれが花であるかを判断することです。\n",
    "- 数字の問題の場合、目標は10桁の数字（0〜9、クラス）の中からどれが画像（観察）に表示されているかを決定することです。\n",
    "\n",
    "分類を実装しているプログラムは__分類器__と呼びます。\n",
    "\n",
    "(分類問題以外、機械学習のもう1つの一般的な問題は_回帰_ですが、この実習では習いません。)"
   ]
  },
  {
   "cell_type": "markdown",
   "metadata": {},
   "source": [
    "### Supervised learning / 教師あり学習\n",
    "\n",
    "Usually, a classifier has __parameters__ that can be tuned to modify the prediction.\n",
    "<br>\n",
    "The goal of learning is to tune these parameters to obtain a \"good\" classifier - i.e. a classifier that successfully predict the class of the observations.\n",
    "\n",
    "In this practice, to tune the classifier parameters, we will apply __supervised learning__. \n",
    "<br>\n",
    "(Other types of machine learning also exist, like _unsupervised learning_, but we will not learn them in this practice.)\n",
    "\n",
    "In supervised learning, we __train__ (__teach__) the classifier to perform classification by giving it many examples.\n",
    "<br>\n",
    "An example is composed of __observations__ (or __features__) and the corresponding __label__ (also called __class__). The observations and labels are sometimes just called _input_ and _output_ of the classifier.\n",
    "<br><br>\n",
    "\n",
    "通常、分類子には__パラメーター__があり、そのパラメーターを調整することによって予測を変更できます。\n",
    "<br>\n",
    "学習の目的は、これらのパラメーターを調整して、「良好な」分類子、つまり観測のクラスを正常に予測できる分類子を取得することです。\n",
    "\n",
    "この実習では、分類子パラメーターを調整するために、__教師あり学習__を適用します。\n",
    "<br>\n",
    "（_教師なし学習_など、他の種類の機械学習も存在しますが、この実習では学習しません。）\n",
    "\n",
    "教師あり学習では、多くの例を提供することにより、分類子に__トレーニング__します（学習させます）。\n",
    "<br>\n",
    "一つの例は、__観測__とそれに対応する__ラベル__（__クラス__とも呼ばれる）で構成されています。観測とラベルは、分類子の_入力_と_出力_と呼ばれることがよくあります。"
   ]
  },
  {
   "cell_type": "markdown",
   "metadata": {},
   "source": [
    "---\n",
    "\n",
    "Follow the Contents below in order. \n",
    "<br>\n",
    "Start by choosing the _Session 1: Jupyter_.\n",
    "<br>\n",
    "When you finish Session 1, come back here and start Session 2, and so on.\n",
    "\n",
    "以下のContentsを順番にやってください。\n",
    "<br>\n",
    "まずは _Session 1: Jupyter_ を選択してください。\n",
    "<br>\n",
    "セッション1が終了したら、ここに戻ってセッション2を開始し、順番に全てのセッションをやってください。"
   ]
  },
  {
   "cell_type": "markdown",
   "metadata": {},
   "source": [
    "## Contents\n",
    "\n",
    "A. __Tools__\n",
    "\n",
    " 1. [Session 1: Jupyter](session1-main.ipynb)\n",
    "\n",
    "     - [playground 1](session1-playground1.ipynb)\n",
    "     - [playground 2](session1-playground2.ipynb)\n",
    "     \n",
    "\n",
    " 2. [Session 2: Numpy](session2-main.ipynb)  \n",
    "\n",
    "     - [playground](session2-playground.ipynb)\n",
    "\n",
    "\n",
    " 3. [Session 3: Matplotlib](session3-main.ipynb)\n",
    " \n",
    "     - [playground 1](session3-playground1.ipynb)\n",
    "     - [playground 2](session3-playground2.ipynb)\n",
    "\n",
    "B. __Classification__\n",
    " \n",
    " 1. [Session 4: Flower classification](session4-main.ipynb)\n",
    "\n",
    "      - [playground 1](session4-playground1.ipynb)\n",
    "      - [playground 2](session4-playground2.ipynb)\n",
    "\n",
    "\n",
    " 2. [Session 5: Digits classification](session5-main.ipynb)\n",
    " \n",
    "     - [playground 1](session5-playground1.ipynb)\n",
    "     - [playground 2](session5-playground2.ipynb)\n",
    "     - [playground 3 (optional)](session5-playground3.ipynb)\n",
    "     \n",
    " \n",
    " 3. [Session 6: Machine learning workflow summary](session6-main.ipynb)\n",
    "\n",
    "     - [playground (optional)](session6-playground.ipynb)\n",
    "     \n",
    "     \n",
    "__Homework__:\n",
    "\n",
    "  - [Gather your own data](homework-day1.ipynb)\n"
   ]
  }
 ],
 "metadata": {
  "kernelspec": {
   "display_name": "Python 3",
   "language": "python",
   "name": "python3"
  },
  "language_info": {
   "codemirror_mode": {
    "name": "ipython",
    "version": 3
   },
   "file_extension": ".py",
   "mimetype": "text/x-python",
   "name": "python",
   "nbconvert_exporter": "python",
   "pygments_lexer": "ipython3",
   "version": "3.7.6"
  }
 },
 "nbformat": 4,
 "nbformat_minor": 2
}
