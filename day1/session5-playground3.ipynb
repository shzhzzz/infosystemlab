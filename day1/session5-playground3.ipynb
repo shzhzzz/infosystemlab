{
 "cells": [
  {
   "cell_type": "markdown",
   "metadata": {},
   "source": [
    "## Session5 - playground3 (Optional)"
   ]
  },
  {
   "cell_type": "code",
   "execution_count": null,
   "metadata": {},
   "outputs": [],
   "source": [
    "import numpy as np\n",
    "import matplotlib as mpl\n",
    "import matplotlib.pyplot as plt"
   ]
  },
  {
   "cell_type": "code",
   "execution_count": null,
   "metadata": {},
   "outputs": [],
   "source": [
    "from mnist_loader import MNISTVectorLoader\n",
    "mnist_vector_loader = MNISTVectorLoader(42)\n",
    "X, y = mnist_vector_loader.samples(1000)"
   ]
  },
  {
   "cell_type": "code",
   "execution_count": null,
   "metadata": {},
   "outputs": [],
   "source": [
    "from sklearn.model_selection import train_test_split\n",
    "from sklearn.preprocessing import StandardScaler\n",
    "\n",
    "X_train, X_test, y_train, y_test  = train_test_split(X, y, test_size=0.25)\n",
    "\n",
    "scaler = StandardScaler()\n",
    "scaler.fit(X_train)\n",
    "X_train = scaler.transform(X_train)\n",
    "X_test = scaler.transform(X_test)"
   ]
  },
  {
   "cell_type": "markdown",
   "metadata": {},
   "source": [
    "Here, we will create a dataset with a certain amount of labelling errors.\n",
    "\n",
    "ここでは、一部のラベル付けが間違えているデータセットを作成します。"
   ]
  },
  {
   "cell_type": "code",
   "execution_count": null,
   "metadata": {},
   "outputs": [],
   "source": [
    "# Error ratio / エラー率\n",
    "error_ratio = 0.05"
   ]
  },
  {
   "cell_type": "code",
   "execution_count": null,
   "metadata": {},
   "outputs": [],
   "source": [
    "# training set with errors / エラーを含めているトレーニングセット\n",
    "number_errors = int(error_ratio * y_train.shape[0])\n",
    "indices = np.random.permutation(y_train.shape[0])[:number_errors] # randomly select number_errors samples to modify\n",
    "y_train_error = y_train.copy()\n",
    "y_train_error[indices] = y_train_error[indices] + 1\n",
    "y_train_error[y_train_error>9] = 0\n",
    "print(\"Wrong labels in training set: {} / {}\".format(number_errors, y_train.shape[0]))"
   ]
  },
  {
   "cell_type": "code",
   "execution_count": null,
   "metadata": {},
   "outputs": [],
   "source": [
    "# testing set with errors / エラーを含めているテストセット\n",
    "number_errors = int(error_ratio * y_test.shape[0])\n",
    "indices = np.random.permutation(y_test.shape[0])[:number_errors]\n",
    "y_test_error = y_test.copy()\n",
    "y_test_error[indices] = y_test_error[indices] + 1\n",
    "y_test_error[y_test_error>9] = 0\n",
    "print(\"Wrong labels in testing set: {} / {}\".format(number_errors, y_test.shape[0]))"
   ]
  },
  {
   "cell_type": "markdown",
   "metadata": {},
   "source": [
    "## OPTIONAL 1\n",
    "-  Train a classifier with the dataset containing labelling error `X_train, y_train_error`.\n",
    "\n",
    "\n",
    "- ラベル付けエラーを含むデータセット`X_train、y_train_error`で分類器をトレーニングしてください。"
   ]
  },
  {
   "cell_type": "code",
   "execution_count": null,
   "metadata": {},
   "outputs": [],
   "source": [
    "## YOUR CODE HERE"
   ]
  },
  {
   "cell_type": "markdown",
   "metadata": {},
   "source": [
    "## OPTIONAL 2\n",
    "Test the performance of the trained classifier with:\n",
    "- the test set `X_test, y_test`\n",
    "- the testing set containing labelling error `X_test, y_test_error`\n",
    "\n",
    "\n",
    "トレーニングされた分類器のパフォーマンスを試してください。\n",
    "- 元のテストセット`X_test、y_test`を使って\n",
    "- ラベル付けエラーを含むテストセット `X_test、y_test_error`を使って"
   ]
  },
  {
   "cell_type": "code",
   "execution_count": null,
   "metadata": {},
   "outputs": [],
   "source": [
    "## YOUR CODE HERE"
   ]
  },
  {
   "cell_type": "markdown",
   "metadata": {},
   "source": [
    "- Try changing the values of `error_ratio` to see how it influences the performance\n",
    "\n",
    "\n",
    "- `error_ratio`の値を変更して、パフォーマンスにどのように影響するかを確認してください"
   ]
  }
 ],
 "metadata": {
  "kernelspec": {
   "display_name": "Python 3",
   "language": "python",
   "name": "python3"
  },
  "language_info": {
   "codemirror_mode": {
    "name": "ipython",
    "version": 3
   },
   "file_extension": ".py",
   "mimetype": "text/x-python",
   "name": "python",
   "nbconvert_exporter": "python",
   "pygments_lexer": "ipython3",
   "version": "3.7.6"
  }
 },
 "nbformat": 4,
 "nbformat_minor": 2
}
