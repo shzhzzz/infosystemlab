{
 "cells": [
  {
   "cell_type": "markdown",
   "metadata": {},
   "source": [
    "## Session6 - playground (optional)"
   ]
  },
  {
   "cell_type": "markdown",
   "metadata": {},
   "source": [
    "Here you can try doing the full machine learning workflow by yourself.\n",
    "\n",
    "You are free to use any dataset (but make sure it is a classification problem).\n",
    "<br>\n",
    "A good place to find datasets for trying out is the [UC Irvine Machine Learning Repository](http://archive.ics.uci.edu/ml/datasets.php). \n",
    "<br>\n",
    "Other places to look for datasets are [Kaggle](https://www.kaggle.com/datasets), [Amazon AWS](https://registry.opendata.aws/), or check the [list on Wikipedia](https://en.wikipedia.org/wiki/List_of_datasets_for_machine-learning_research).\n",
    "\n",
    "(Note that some datasets might not be in CSV format, so you may have to to preprocess the data.)\n",
    "\n",
    "ここでは、最初から最後までの機械学習ワークフローを自分で試すことができます。\n",
    "\n",
    "任意のデータセットを自由に使用できます（ただし、分類問題であることを確認してください）。\n",
    "<br>\n",
    "練習用のデータセットを見つけるのに適した場所は、 [UC Irvine Machine Learning Repository](http://archive.ics.uci.edu/ml/datasets.php)です。\n",
    "<br>\n",
    "それ以外、データセットを探す場所は、 [Kaggle](https://www.kaggle.com/datasets)、[Amazon AWS](https://registry.opendata.aws/)などがあります。または[ウィキペディアのリスト](https://en.wikipedia.org/wiki/List_of_datasets_for_machine-learning_research)を確認してください。\n",
    "\n",
    "（データセットはCSV形式でない場合があるため、データの前処理が必要になる場合があります。）"
   ]
  },
  {
   "cell_type": "code",
   "execution_count": null,
   "metadata": {},
   "outputs": [],
   "source": [
    "import numpy as np\n",
    "import matplotlib as mpl\n",
    "import matplotlib.pyplot as plt"
   ]
  },
  {
   "cell_type": "markdown",
   "metadata": {},
   "source": [
    "## OPTIONAL 1 - Get the data / データの取得\n",
    "\n",
    "- Download the data file to the same folder as this notebook (.../day1/)\n",
    "- Load the data\n",
    "\n",
    "\n",
    "- データファイルをこのノートブックと同じフォルダにダウンロード（.../day1/）\n",
    "- データの読み込み"
   ]
  },
  {
   "cell_type": "code",
   "execution_count": null,
   "metadata": {},
   "outputs": [],
   "source": [
    "## YOUR CODE HERE"
   ]
  },
  {
   "cell_type": "markdown",
   "metadata": {},
   "source": [
    "## OPTIONAL 2 - Explore the data / データの探索\n",
    "\n",
    "- Try plotting some values to see how the dataset looks like\n",
    "\n",
    "\n",
    "- いくつかの値をプロットし、データがどのように見えるかを確認してください"
   ]
  },
  {
   "cell_type": "code",
   "execution_count": null,
   "metadata": {},
   "outputs": [],
   "source": [
    "## YOUR CODE HERE"
   ]
  },
  {
   "cell_type": "markdown",
   "metadata": {},
   "source": [
    "## OPTIONAL 3 - Prepare the data / データの準備\n",
    "\n",
    "- Create a training and a testing set\n",
    "- Standardize the data\n",
    "\n",
    "\n",
    "- トレーニングとテストセットの作成\n",
    "- データの標準化"
   ]
  },
  {
   "cell_type": "code",
   "execution_count": null,
   "metadata": {},
   "outputs": [],
   "source": [
    "## YOUR CODE HERE"
   ]
  },
  {
   "cell_type": "markdown",
   "metadata": {},
   "source": [
    "## OPTIONAL 4 - Try several classifiers / いくつかの分類器を試す\n",
    "\n",
    "- Suggestions: `LogisticRegression` or `SGDClassifier` from the `sklearn.linear_model` package, or `RandomForestClassifier` from the `sklearn.ensemble` package, etc.\n",
    "\n",
    "\n",
    "- 提案：`sklearn.linear_model`パッケージ内の`LogisticRegression`か`SGDClassifier`、または`sklearn.ensemble`パッケージの`RandomForestClassifier`など"
   ]
  },
  {
   "cell_type": "code",
   "execution_count": null,
   "metadata": {},
   "outputs": [],
   "source": [
    "## YOUR CODE HERE"
   ]
  },
  {
   "cell_type": "markdown",
   "metadata": {},
   "source": [
    "## OPTIONAL 5 - Make more detailed comparisons / より詳細な比較を行う\n",
    "\n",
    "- Use cross validation to get a better idea of the performance of the different classifiers \n",
    "- Measure the computation time of each classifier\n",
    "\n",
    "\n",
    "- 相互検証を使用して、さまざまな分類器のパフォーマンスをよりよく理解する\n",
    "- それぞれの分類器の計算時間を測定する"
   ]
  },
  {
   "cell_type": "code",
   "execution_count": null,
   "metadata": {},
   "outputs": [],
   "source": [
    "## YOUR CODE HERE"
   ]
  }
 ],
 "metadata": {
  "kernelspec": {
   "display_name": "Python 3",
   "language": "python",
   "name": "python3"
  },
  "language_info": {
   "codemirror_mode": {
    "name": "ipython",
    "version": 3
   },
   "file_extension": ".py",
   "mimetype": "text/x-python",
   "name": "python",
   "nbconvert_exporter": "python",
   "pygments_lexer": "ipython3",
   "version": "3.7.6"
  }
 },
 "nbformat": 4,
 "nbformat_minor": 2
}
